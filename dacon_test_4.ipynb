{
  "nbformat": 4,
  "nbformat_minor": 0,
  "metadata": {
    "colab": {
      "provenance": [],
      "machine_shape": "hm",
      "gpuType": "A100",
      "authorship_tag": "ABX9TyNZDtn2uXjapOllalilrsQ2",
      "include_colab_link": true
    },
    "kernelspec": {
      "name": "python3",
      "display_name": "Python 3"
    },
    "language_info": {
      "name": "python"
    },
    "accelerator": "GPU"
  },
  "cells": [
    {
      "cell_type": "markdown",
      "metadata": {
        "id": "view-in-github",
        "colab_type": "text"
      },
      "source": [
        "<a href=\"https://colab.research.google.com/github/kimjeongsoo20190147/dacon/blob/main/dacon_test_4.ipynb\" target=\"_parent\"><img src=\"https://colab.research.google.com/assets/colab-badge.svg\" alt=\"Open In Colab\"/></a>"
      ]
    },
    {
      "cell_type": "code",
      "execution_count": 1,
      "metadata": {
        "colab": {
          "base_uri": "https://localhost:8080/"
        },
        "id": "Tq2CzTFKVICY",
        "outputId": "59c9c6ce-b966-48d1-ff68-c7484b107d24"
      },
      "outputs": [
        {
          "output_type": "stream",
          "name": "stdout",
          "text": [
            "Collecting torch-optimizer\n",
            "  Downloading torch_optimizer-0.3.0-py3-none-any.whl.metadata (55 kB)\n",
            "\u001b[?25l     \u001b[90m━━━━━━━━━━━━━━━━━━━━━━━━━━━━━━━━━━━━━━━━\u001b[0m \u001b[32m0.0/55.9 kB\u001b[0m \u001b[31m?\u001b[0m eta \u001b[36m-:--:--\u001b[0m\r\u001b[2K     \u001b[90m━━━━━━━━━━━━━━━━━━━━━━━━━━━━━━━━━━━━━━━━\u001b[0m \u001b[32m55.9/55.9 kB\u001b[0m \u001b[31m5.5 MB/s\u001b[0m eta \u001b[36m0:00:00\u001b[0m\n",
            "\u001b[?25hRequirement already satisfied: torch>=1.5.0 in /usr/local/lib/python3.10/dist-packages (from torch-optimizer) (2.4.1+cu121)\n",
            "Collecting pytorch-ranger>=0.1.1 (from torch-optimizer)\n",
            "  Downloading pytorch_ranger-0.1.1-py3-none-any.whl.metadata (509 bytes)\n",
            "Requirement already satisfied: filelock in /usr/local/lib/python3.10/dist-packages (from torch>=1.5.0->torch-optimizer) (3.16.1)\n",
            "Requirement already satisfied: typing-extensions>=4.8.0 in /usr/local/lib/python3.10/dist-packages (from torch>=1.5.0->torch-optimizer) (4.12.2)\n",
            "Requirement already satisfied: sympy in /usr/local/lib/python3.10/dist-packages (from torch>=1.5.0->torch-optimizer) (1.13.3)\n",
            "Requirement already satisfied: networkx in /usr/local/lib/python3.10/dist-packages (from torch>=1.5.0->torch-optimizer) (3.3)\n",
            "Requirement already satisfied: jinja2 in /usr/local/lib/python3.10/dist-packages (from torch>=1.5.0->torch-optimizer) (3.1.4)\n",
            "Requirement already satisfied: fsspec in /usr/local/lib/python3.10/dist-packages (from torch>=1.5.0->torch-optimizer) (2024.6.1)\n",
            "Requirement already satisfied: MarkupSafe>=2.0 in /usr/local/lib/python3.10/dist-packages (from jinja2->torch>=1.5.0->torch-optimizer) (2.1.5)\n",
            "Requirement already satisfied: mpmath<1.4,>=1.1.0 in /usr/local/lib/python3.10/dist-packages (from sympy->torch>=1.5.0->torch-optimizer) (1.3.0)\n",
            "Downloading torch_optimizer-0.3.0-py3-none-any.whl (61 kB)\n",
            "\u001b[2K   \u001b[90m━━━━━━━━━━━━━━━━━━━━━━━━━━━━━━━━━━━━━━━━\u001b[0m \u001b[32m61.9/61.9 kB\u001b[0m \u001b[31m6.5 MB/s\u001b[0m eta \u001b[36m0:00:00\u001b[0m\n",
            "\u001b[?25hDownloading pytorch_ranger-0.1.1-py3-none-any.whl (14 kB)\n",
            "Installing collected packages: pytorch-ranger, torch-optimizer\n",
            "Successfully installed pytorch-ranger-0.1.1 torch-optimizer-0.3.0\n"
          ]
        }
      ],
      "source": [
        "!pip install torch-optimizer"
      ]
    },
    {
      "cell_type": "code",
      "source": [
        "import numpy as np\n",
        "import pandas as pd\n",
        "import os\n",
        "import matplotlib.pyplot as plt\n",
        "import seaborn as sns\n",
        "import torch\n",
        "from torch.utils.data import Dataset, DataLoader\n",
        "import transformers\n",
        "from transformers import BertTokenizer, BertForSequenceClassification, AdamW\n",
        "from sklearn.model_selection import train_test_split\n",
        "from sklearn.metrics import f1_score\n",
        "from tqdm import tqdm\n",
        "import pandas as pd\n",
        "from types import SimpleNamespace\n",
        "from sklearn.preprocessing import LabelEncoder\n",
        "from transformers import BertModel\n",
        "#library\n",
        "import pickle #전처리된 데이터를 파일로 저장하거나 불러올 때 사용\n",
        "import sys\n",
        "import re\n",
        "import cv2\n",
        "\n",
        "#torch\n",
        "import torch\n",
        "import torch.cuda.amp as amp #Pytorch의 혼합 정밀도(Amp, Automatic, Mixed Precision) 기능 제공\n",
        "from torch.utils.data.dataset import Dataset #데이터를 미니배치 단위로 불러오고, 셔플링 및 병렬 처리 지원\n",
        "from torch.utils.data import DataLoader\n",
        "from torch.utils.data.sampler import *\n",
        "\n",
        "import torch.nn as nn\n",
        "import torch.nn.functional as F\n",
        "\n",
        "from torch.optim.lr_scheduler import CosineAnnealingWarmRestarts, CosineAnnealingLR, ReduceLROnPlateau, MultiStepLR, OneCycleLR\n",
        "'''\n",
        "CosineAnnealingWarmRestarts: 코사인 함수 기반으로 학습률을 조절하며, 주기마다 학습률을 초기화\n",
        "CosineAnnealingLR: 코사인 함수 형태로 학습률 감소시킴\n",
        "ReduceLROnPlateau: 성능 향상이 없을 때 학습률 감소시킴\n",
        "MultiStepLR: 지정된 에포크마다 학습률 변경\n",
        "OneCycleLR: 한 사이클 내에서 학습률을 증가시키고 감소시키는 스케줄러\n",
        "'''\n",
        "import math\n",
        "import torch\n",
        "from torch.optim.optimizer import Optimizer, required #옵티마이저 필수 인자 지정\n",
        "import torch_optimizer as optim\n",
        "\n",
        "# utility\n",
        "from collections import defaultdict #기본 딕셔너리를 생성\n",
        "import itertools as it #효율적인 반복문 작성을 위해\n",
        "import random\n",
        "import matplotlib.pyplot as plt\n",
        "from timeit import default_timer as timer\n",
        "\n",
        "from sklearn.model_selection import KFold\n",
        "from sklearn.metrics import f1_score\n",
        "from sklearn.metrics import accuracy_score\n",
        "from sklearn.preprocessing import LabelEncoder\n",
        "from sklearn.preprocessing import StandardScaler\n",
        "\n",
        "# transformers\n",
        "import transformers\n",
        "from transformers import XLMPreTrainedModel, XLMRobertaModel, XLMRobertaConfig, XLMRobertaTokenizer\n",
        "from transformers import XLMRobertaForSequenceClassification, BertForSequenceClassification\n",
        "from transformers import AutoTokenizer\n",
        "from transformers import BertForSequenceClassification, DistilBertForSequenceClassification, XLNetForSequenceClassification, XLMRobertaForSequenceClassification, XLMForSequenceClassification, RobertaForSequenceClassification\n",
        "from transformers import AdamW\n",
        "from transformers import get_linear_schedule_with_warmup"
      ],
      "metadata": {
        "id": "8cECtbI2VNYV"
      },
      "execution_count": 2,
      "outputs": []
    },
    {
      "cell_type": "code",
      "source": [
        "train_df = pd.read_csv('train.csv')\n",
        "test_df = pd.read_csv('test.csv')"
      ],
      "metadata": {
        "id": "Y9V2l9ezVlvE"
      },
      "execution_count": 3,
      "outputs": []
    },
    {
      "cell_type": "code",
      "source": [
        "data_title_len = train_df['제목'].apply(len)\n",
        "data_keyword_len = train_df['키워드'].apply(len)\n",
        "print(\"전체 데이터 개수:\", len(train_df))\n",
        "\n",
        "print(\"1.제목, 2.키워드 길이 분석\")\n",
        "def show_data_length(a,b):\n",
        "    for x in [a, b]:\n",
        "        # print(f\"------------\")\n",
        "        # print(f\"최대값{np.max(x)}\")\n",
        "        # print(f\"최소값{np.min(x)}\")\n",
        "        # print(f\"평균{np.average(x)}\")\n",
        "        # print(f\"표준편차{np.std(x)}\")\n",
        "        # print(f\"중간값{np.median(x)}\")\n",
        "        # print(f\"제1사분위{np.percentile(x, 25)}\")\n",
        "        # print(f\"제3사분위{np.percentile(x, 75)}\")\n",
        "\n",
        "        plt.figure(figsize=(6,4))\n",
        "        plt.boxplot(x, vert=True)  # vert=False로 수평 박스 플롯 생성\n",
        "        plt.xlabel('Value')\n",
        "\n",
        "        # 그래프 보여주기\n",
        "        plt.show()\n",
        "\n",
        "show_data_length(data_title_len, data_keyword_len)"
      ],
      "metadata": {
        "colab": {
          "base_uri": "https://localhost:8080/",
          "height": 795
        },
        "id": "ZF7fSbicVnye",
        "outputId": "102177d9-4182-4567-e58c-a832bb83f285"
      },
      "execution_count": 4,
      "outputs": [
        {
          "output_type": "stream",
          "name": "stdout",
          "text": [
            "전체 데이터 개수: 54609\n",
            "1.제목, 2.키워드 길이 분석\n"
          ]
        },
        {
          "output_type": "display_data",
          "data": {
            "text/plain": [
              "<Figure size 600x400 with 1 Axes>"
            ],
            "image/png": "[encoded data removed]"
          },
          "metadata": {}
        },
        {
          "output_type": "display_data",
          "data": {
            "text/plain": [
              "<Figure size 600x400 with 1 Axes>"
            ],
            "image/png": "[encoded data removed]"
          },
          "metadata": {}
        }
      ]
    },
    {
      "cell_type": "code",
      "source": [
        "#길이 상위 10개 데이터 보여주기\n",
        "top_10_longest_titles = data_title_len.sort_values( ascending=False).head(10)\n",
        "top_10_longest_keywords = data_keyword_len.sort_values(ascending=False).head(15)\n",
        "\n",
        "# 결과 출력\n",
        "# print(top_10_longest_titles)\n",
        "# print(top_10_longest_keywords)\n",
        "\n",
        "# 제목은 80으로 통일\n",
        "# 키워드는 9000(8679)으로 통일\n",
        "print(\"제목은 80, 키워드는 8679로 통일\")\n",
        "train_df = train_df[train_df['제목'].apply(len) <= 80]\n",
        "print(len(train_df))\n",
        "train_df = train_df[train_df['키워드'].apply(len) <= 8679]\n",
        "print(len(train_df))\n",
        "\n",
        "\n",
        "# train_data_title_len = train_data['제목'].apply(len)\n",
        "# train_data_keyword_len = train_data['키워드'].apply(len)\n",
        "# show_data_length(train_data_title_len, train_data_keyword_len)"
      ],
      "metadata": {
        "colab": {
          "base_uri": "https://localhost:8080/"
        },
        "id": "aOvJP9m4VuFv",
        "outputId": "ae5ca709-0eef-4d54-81b6-75fa23a9861a"
      },
      "execution_count": 5,
      "outputs": [
        {
          "output_type": "stream",
          "name": "stdout",
          "text": [
            "제목은 80, 키워드는 8679로 통일\n",
            "54602\n",
            "54592\n"
          ]
        }
      ]
    },
    {
      "cell_type": "code",
      "source": [
        "class_balance = train_df[\"분류\"].value_counts()\n",
        "total_samples = class_balance.sum()\n",
        "\n",
        "class_balance_df = pd.DataFrame(class_balance)\n",
        "class_balance_df.reset_index(inplace=True)\n",
        "class_balance_df.columns = [\"category\", \"sample\"]\n",
        "class_balance_df[\"percentage\"] = (class_balance_df[\"sample\"] / total_samples) * 100\n",
        "class_balance_df[\"percentage\"] = class_balance_df[\"percentage\"].round(2)\n",
        "class_balance_df[\"encoded number\"] = class_balance_df.index\n",
        "class_balance_percentage = (class_balance / total_samples) * 100\n",
        "\n",
        "#Encoded Number\n",
        "label_encoder = LabelEncoder()\n",
        "category_encoded_fit = label_encoder.fit_transform(train_df[\"분류\"])\n",
        "categories = label_encoder.classes_\n",
        "category_encoded_fit = label_encoder.fit_transform(categories)\n",
        "\n",
        "for idx in range(len(categories)):\n",
        "  for i in range(len(categories)):\n",
        "    if class_balance_df.loc[idx, \"category\"] == categories[i]:\n",
        "      class_balance_df.loc[idx, \"encoded number\"]  = i\n",
        "\n",
        "print(class_balance_df)\n",
        "\n",
        "category_weights = list(class_balance_df[\"percentage\"])"
      ],
      "metadata": {
        "colab": {
          "base_uri": "https://localhost:8080/"
        },
        "id": "yOYYgylBVx0T",
        "outputId": "2b6cc6cf-d2af-417c-ebf1-4d9798ba70c8"
      },
      "execution_count": 6,
      "outputs": [
        {
          "output_type": "stream",
          "name": "stdout",
          "text": [
            "         category  sample  percentage  encoded number\n",
            "0              지역   26944       49.36              55\n",
            "1          경제:부동산    3454        6.33              10\n",
            "2        사회:사건_사고    2568        4.70              35\n",
            "3          경제:반도체    2317        4.24               9\n",
            "4         사회:사회일반    1480        2.71              36\n",
            "5        사회:교육_시험     995        1.82              31\n",
            "6        정치:국회_정당     961        1.76              48\n",
            "7        사회:의료_건강     950        1.74              38\n",
            "8        경제:취업_창업     844        1.55              18\n",
            "9   스포츠:올림픽_아시안게임     841        1.54              45\n",
            "10       경제:산업_기업     709        1.30              11\n",
            "11       문화:전시_공연     671        1.23              27\n",
            "12         경제:자동차     640        1.17              15\n",
            "13        경제:경제일반     625        1.14               6\n",
            "14         사회:장애인     621        1.14              39\n",
            "15         스포츠:골프     617        1.13              41\n",
            "16          정치:선거     607        1.11              50\n",
            "17          경제:유통     589        1.08              14\n",
            "18      IT_과학:모바일     537        0.98               2\n",
            "19          사회:여성     536        0.98              37\n",
            "20       사회:노동_복지     447        0.82              33\n",
            "21          사회:환경     396        0.73              40\n",
            "22      경제:서비스_쇼핑     387        0.71              12\n",
            "23          경제:무역     375        0.69               8\n",
            "24       정치:행정_자치     349        0.64              54\n",
            "25             국제     337        0.62              19\n",
            "26       문화:방송_연예     334        0.61              22\n",
            "27         스포츠:축구     328        0.60              47\n",
            "28      경제:금융_재테크     327        0.60               7\n",
            "29         정치:청와대     279        0.51              53\n",
            "30          문화:출판     248        0.45              29\n",
            "31  IT_과학:IT_과학일반     243        0.45               0\n",
            "32  IT_과학:인터넷_SNS     238        0.44               4\n",
            "33       문화:미술_건축     229        0.42              21\n",
            "34        정치:정치일반     221        0.40              52\n",
            "35       IT_과학:과학     215        0.39               1\n",
            "36        문화:문화일반     213        0.39              20\n",
            "37      문화:학술_문화재     202        0.37              30\n",
            "38       문화:요리_여행     190        0.35              25\n",
            "39          경제:자원     178        0.33              16\n",
            "40          문화:종교     173        0.32              28\n",
            "41      IT_과학:콘텐츠     160        0.29               5\n",
            "42         사회:미디어     128        0.23              34\n",
            "43          사회:날씨     124        0.23              32\n",
            "44      스포츠:농구_배구     113        0.21              42\n",
            "45          문화:음악     110        0.20              26\n",
            "46          문화:생활     102        0.19              23\n",
            "47       IT_과학:보안      94        0.17               3\n",
            "48        스포츠:월드컵      90        0.16              46\n",
            "49       경제:증권_증시      76        0.14              17\n",
            "50          정치:북한      67        0.12              49\n",
            "51          정치:외교      31        0.06              51\n",
            "52      스포츠:스포츠일반      29        0.05              43\n",
            "53          문화:영화      27        0.05              24\n",
            "54         스포츠:야구      17        0.03              44\n",
            "55          경제:외환       9        0.02              13\n"
          ]
        }
      ]
    },
    {
      "cell_type": "code",
      "source": [
        "pip install gensim konlpy scikit-learn"
      ],
      "metadata": {
        "colab": {
          "base_uri": "https://localhost:8080/"
        },
        "id": "ukfBb6MWV0er",
        "outputId": "78cbb320-948e-4f9a-dcf2-e84c9b59e5bc"
      },
      "execution_count": 7,
      "outputs": [
        {
          "output_type": "stream",
          "name": "stdout",
          "text": [
            "Requirement already satisfied: gensim in /usr/local/lib/python3.10/dist-packages (4.3.3)\n",
            "Collecting konlpy\n",
            "  Downloading konlpy-0.6.0-py2.py3-none-any.whl.metadata (1.9 kB)\n",
            "Requirement already satisfied: scikit-learn in /usr/local/lib/python3.10/dist-packages (1.5.2)\n",
            "Requirement already satisfied: numpy<2.0,>=1.18.5 in /usr/local/lib/python3.10/dist-packages (from gensim) (1.26.4)\n",
            "Requirement already satisfied: scipy<1.14.0,>=1.7.0 in /usr/local/lib/python3.10/dist-packages (from gensim) (1.13.1)\n",
            "Requirement already satisfied: smart-open>=1.8.1 in /usr/local/lib/python3.10/dist-packages (from gensim) (7.0.5)\n",
            "Collecting JPype1>=0.7.0 (from konlpy)\n",
            "  Downloading JPype1-1.5.0-cp310-cp310-manylinux_2_17_x86_64.manylinux2014_x86_64.whl.metadata (4.9 kB)\n",
            "Requirement already satisfied: lxml>=4.1.0 in /usr/local/lib/python3.10/dist-packages (from konlpy) (4.9.4)\n",
            "Requirement already satisfied: joblib>=1.2.0 in /usr/local/lib/python3.10/dist-packages (from scikit-learn) (1.4.2)\n",
            "Requirement already satisfied: threadpoolctl>=3.1.0 in /usr/local/lib/python3.10/dist-packages (from scikit-learn) (3.5.0)\n",
            "Requirement already satisfied: packaging in /usr/local/lib/python3.10/dist-packages (from JPype1>=0.7.0->konlpy) (24.1)\n",
            "Requirement already satisfied: wrapt in /usr/local/lib/python3.10/dist-packages (from smart-open>=1.8.1->gensim) (1.16.0)\n",
            "Downloading konlpy-0.6.0-py2.py3-none-any.whl (19.4 MB)\n",
            "\u001b[2K   \u001b[90m━━━━━━━━━━━━━━━━━━━━━━━━━━━━━━━━━━━━━━━━\u001b[0m \u001b[32m19.4/19.4 MB\u001b[0m \u001b[31m79.9 MB/s\u001b[0m eta \u001b[36m0:00:00\u001b[0m\n",
            "\u001b[?25hDownloading JPype1-1.5.0-cp310-cp310-manylinux_2_17_x86_64.manylinux2014_x86_64.whl (488 kB)\n",
            "\u001b[2K   \u001b[90m━━━━━━━━━━━━━━━━━━━━━━━━━━━━━━━━━━━━━━━━\u001b[0m \u001b[32m488.6/488.6 kB\u001b[0m \u001b[31m42.3 MB/s\u001b[0m eta \u001b[36m0:00:00\u001b[0m\n",
            "\u001b[?25hInstalling collected packages: JPype1, konlpy\n",
            "Successfully installed JPype1-1.5.0 konlpy-0.6.0\n"
          ]
        }
      ]
    },
    {
      "cell_type": "code",
      "source": [
        "from sklearn.model_selection import train_test_split\n",
        "\n",
        "# 데이터 준비\n",
        "X = train_df.drop(['분류'], axis=1) # decided here what we want to use in our model\n",
        "Y = train_df[\"분류\"]\n",
        "X_train, X_test, y_train, y_test = train_test_split(X, Y, test_size=0.2, random_state=8678686)\n",
        "\n",
        "X_train['combined_text'] = X_train['제목'] + ' ' + X_train['키워드']\n",
        "X_test['combined_text'] = X_test['제목'] + ' ' + X_test['키워드']\n",
        "\n",
        "print(X_train['combined_text'])"
      ],
      "metadata": {
        "colab": {
          "base_uri": "https://localhost:8080/"
        },
        "id": "ORi2aWzLV3Lj",
        "outputId": "5ae29a22-6f24-47b3-eded-5d6bc70cf776"
      },
      "execution_count": 8,
      "outputs": [
        {
          "output_type": "stream",
          "name": "stdout",
          "text": [
            "33192    용인시, 2국 4과 13팀 신설 조직 개편 시의회 통과 용인시,2국,신설,조직,개편...\n",
            "10639    “친윤 아니면 다 나가란 거냐” 與 조직위원장 인선에 ‘내홍’ 친윤,인선,조직,위원...\n",
            "52142    용인시 기흥호수공원에 무장애 산책로 조성...도비 13억원 투입 용인시,기흥호수공원...\n",
            "50529    \"유권자 표심 잡아라\" 새해 첫 주말 휴일 용인지역 예비후보들 출판기념회 '봇물' ...\n",
            "24650    로또947회 1등 당첨지역 총 18곳(종합) 당첨지역,로또,당첨,지역,18곳,종합,...\n",
            "                               ...                        \n",
            "3541     용인 처인 기흥 15개 지역 성장관리방안 확대 용인,처인,기흥,지역,성장,관리,방안...\n",
            "9783     용인시, 악취 문제 해결 위해 중앙부처들과 공동 연구 용인시,악취,해결,악취,중앙부...\n",
            "48326    4일 오후 6시까지 517명 코로나19 확진 어제보다 137명 적어 4일,6시,확진...\n",
            "52641    용인문화재단, 장애인 문화예술교육지원사업 공모 용인문화재단,공모,장애인,문화,예술,...\n",
            "37012    “초등학교 50m 옆 AV배우 모인다” 성인 페스티벌 반대 청원 초등학교,50m,A...\n",
            "Name: combined_text, Length: 43673, dtype: object\n"
          ]
        }
      ]
    },
    {
      "cell_type": "code",
      "source": [
        "from sklearn.feature_extraction.text import TfidfVectorizer\n",
        "import konlpy\n",
        "from gensim.models import Word2Vec\n",
        "from konlpy.tag import Komoran\n",
        "\n",
        "tfidf_vectorizer = TfidfVectorizer()\n",
        "X_train_tfidf_both = tfidf_vectorizer.fit_transform(X_train['combined_text'])\n",
        "X_test_tfidf_both = tfidf_vectorizer.transform(X_test['combined_text'])\n",
        "\n",
        "komoran = Komoran()\n",
        "\n",
        "# 2. 데이터를 형태소 단위로 토큰화 (X_train['combined_text'], X_test['combined_text'] 사용)\n",
        "tokenized_X_train = [komoran.morphs(text) for text in X_train['combined_text']]\n",
        "tokenized_X_test = [komoran.morphs(text) for text in X_test['combined_text']]\n",
        "\n",
        "word2vec_model = Word2Vec(sentences=tokenized_X_train, vector_size=230, window=5, min_count=1, workers=4)\n",
        "\n",
        "def sentence_vector(sentence, model):\n",
        "    word_vecs = [model.wv[word] for word in sentence if word in model.wv]\n",
        "    return np.mean(word_vecs, axis=0) if word_vecs else np.zeros(model.vector_size)\n",
        "\n",
        "X_train_word2vec_both = np.array([sentence_vector(sentence, word2vec_model) for sentence in tokenized_X_train])\n",
        "X_test_word2vec_both = np.array([sentence_vector(sentence, word2vec_model) for sentence in tokenized_X_test])\n",
        "\n",
        "\n",
        "label_encoder = LabelEncoder()\n",
        "y_train_encoded = label_encoder.fit_transform(y_train)\n",
        "y_test_encoded = label_encoder.transform(y_test)"
      ],
      "metadata": {
        "id": "VU9Az0D6V7RY"
      },
      "execution_count": 19,
      "outputs": []
    },
    {
      "cell_type": "code",
      "source": [
        "# Train Random Forest model\n",
        "from sklearn.ensemble import BaggingClassifier, RandomForestClassifier, AdaBoostClassifier, VotingClassifier\n",
        "from sklearn.metrics import accuracy_score, precision_score, recall_score, f1_score\n",
        "import sklearn\n",
        "\n",
        "\n",
        "rf_model = RandomForestClassifier(n_estimators=100, random_state=2024, max_depth = None, max_features = \"sqrt\", min_samples_leaf = 1, min_samples_split = 2)\n",
        "\n",
        "# hypertuned params:\n",
        " #{'bootstrap': False, 'max_depth': None, 'max_features': 'sqrt',\n",
        " #'min_samples_leaf': 1, 'min_samples_split': 2, 'n_estimators': 100}\n",
        "\n",
        "def randomForest(x_train,y_train,x_test):\n",
        "      rf_model.fit(x_train, y_train)\n",
        "\n",
        "      y_pred = rf_model.predict(x_test)\n",
        "      y_pred_prob = rf_model.predict_proba(x_test)\n",
        "\n",
        "      return (y_pred, y_pred_prob)\n",
        "\n",
        "y_pred, y_pred_prob = randomForest(X_train_tfidf_both,y_train_encoded, X_test_tfidf_both)\n",
        "\n",
        "## Evaluate the model\n",
        "rf_cm = sklearn.metrics.confusion_matrix(y_test_encoded, y_pred)\n",
        "rf_model_accuracy = accuracy_score(y_test_encoded,y_pred)\n",
        "rf_model_precision = precision_score(y_test_encoded,y_pred,average = 'weighted')\n",
        "rf_model_recall = recall_score(y_test_encoded,y_pred,average = 'weighted')\n",
        "rf_model_f1 = f1_score(y_test_encoded,y_pred,average = 'weighted')\n",
        "\n",
        "print(rf_model_accuracy)\n",
        "\n",
        "\n",
        "# Training set predictions\n",
        "y_train_pred = rf_model.predict(X_train_word2vec_both)\n",
        "\n",
        "# Test set predictions (you might have this from your previous code)\n",
        "y_test_pred = rf_model.predict(X_test_word2vec_both)\n",
        "\n",
        "# Compute F1 scores for training and test sets\n",
        "f1_train = f1_score(y_train_encoded, y_train_pred, average='weighted')\n",
        "f1_test = f1_score(y_test_encoded, y_test_pred, average='weighted')\n",
        "\n",
        "print(f\"F1 Score - Training Set: {f1_train}\")\n",
        "print(f\"F1 Score - Test Set: {f1_test}\")"
      ],
      "metadata": {
        "colab": {
          "base_uri": "https://localhost:8080/",
          "height": 445
        },
        "id": "y0O-FFsYV8o8",
        "outputId": "3f2e2a36-d6e6-49cd-8302-408bd18edba8"
      },
      "execution_count": 20,
      "outputs": [
        {
          "output_type": "stream",
          "name": "stdout",
          "text": [
            "0.7621577067497024\n"
          ]
        },
        {
          "output_type": "stream",
          "name": "stderr",
          "text": [
            "/usr/local/lib/python3.10/dist-packages/sklearn/metrics/_classification.py:1531: UndefinedMetricWarning: Precision is ill-defined and being set to 0.0 in labels with no predicted samples. Use `zero_division` parameter to control this behavior.\n",
            "  _warn_prf(average, modifier, f\"{metric.capitalize()} is\", len(result))\n"
          ]
        },
        {
          "output_type": "error",
          "ename": "ValueError",
          "evalue": "X has 230 features, but RandomForestClassifier is expecting 243541 features as input.",
          "traceback": [
            "\u001b[0;31m---------------------------------------------------------------------------\u001b[0m",
            "\u001b[0;31mValueError\u001b[0m                                Traceback (most recent call last)",
            "\u001b[0;32m<ipython-input-20-6e4f6fd293e8>\u001b[0m in \u001b[0;36m<cell line: 34>\u001b[0;34m()\u001b[0m\n\u001b[1;32m     32\u001b[0m \u001b[0;34m\u001b[0m\u001b[0m\n\u001b[1;32m     33\u001b[0m \u001b[0;31m# Training set predictions\u001b[0m\u001b[0;34m\u001b[0m\u001b[0;34m\u001b[0m\u001b[0m\n\u001b[0;32m---> 34\u001b[0;31m \u001b[0my_train_pred\u001b[0m \u001b[0;34m=\u001b[0m \u001b[0mrf_model\u001b[0m\u001b[0;34m.\u001b[0m\u001b[0mpredict\u001b[0m\u001b[0;34m(\u001b[0m\u001b[0mX_train_word2vec_both\u001b[0m\u001b[0;34m)\u001b[0m\u001b[0;34m\u001b[0m\u001b[0;34m\u001b[0m\u001b[0m\n\u001b[0m\u001b[1;32m     35\u001b[0m \u001b[0;34m\u001b[0m\u001b[0m\n\u001b[1;32m     36\u001b[0m \u001b[0;31m# Test set predictions (you might have this from your previous code)\u001b[0m\u001b[0;34m\u001b[0m\u001b[0;34m\u001b[0m\u001b[0m\n",
            "\u001b[0;32m/usr/local/lib/python3.10/dist-packages/sklearn/ensemble/_forest.py\u001b[0m in \u001b[0;36mpredict\u001b[0;34m(self, X)\u001b[0m\n\u001b[1;32m    902\u001b[0m             \u001b[0mThe\u001b[0m \u001b[0mpredicted\u001b[0m \u001b[0mclasses\u001b[0m\u001b[0;34m.\u001b[0m\u001b[0;34m\u001b[0m\u001b[0;34m\u001b[0m\u001b[0m\n\u001b[1;32m    903\u001b[0m         \"\"\"\n\u001b[0;32m--> 904\u001b[0;31m         \u001b[0mproba\u001b[0m \u001b[0;34m=\u001b[0m \u001b[0mself\u001b[0m\u001b[0;34m.\u001b[0m\u001b[0mpredict_proba\u001b[0m\u001b[0;34m(\u001b[0m\u001b[0mX\u001b[0m\u001b[0;34m)\u001b[0m\u001b[0;34m\u001b[0m\u001b[0;34m\u001b[0m\u001b[0m\n\u001b[0m\u001b[1;32m    905\u001b[0m \u001b[0;34m\u001b[0m\u001b[0m\n\u001b[1;32m    906\u001b[0m         \u001b[0;32mif\u001b[0m \u001b[0mself\u001b[0m\u001b[0;34m.\u001b[0m\u001b[0mn_outputs_\u001b[0m \u001b[0;34m==\u001b[0m \u001b[0;36m1\u001b[0m\u001b[0;34m:\u001b[0m\u001b[0;34m\u001b[0m\u001b[0;34m\u001b[0m\u001b[0m\n",
            "\u001b[0;32m/usr/local/lib/python3.10/dist-packages/sklearn/ensemble/_forest.py\u001b[0m in \u001b[0;36mpredict_proba\u001b[0;34m(self, X)\u001b[0m\n\u001b[1;32m    944\u001b[0m         \u001b[0mcheck_is_fitted\u001b[0m\u001b[0;34m(\u001b[0m\u001b[0mself\u001b[0m\u001b[0;34m)\u001b[0m\u001b[0;34m\u001b[0m\u001b[0;34m\u001b[0m\u001b[0m\n\u001b[1;32m    945\u001b[0m         \u001b[0;31m# Check data\u001b[0m\u001b[0;34m\u001b[0m\u001b[0;34m\u001b[0m\u001b[0m\n\u001b[0;32m--> 946\u001b[0;31m         \u001b[0mX\u001b[0m \u001b[0;34m=\u001b[0m \u001b[0mself\u001b[0m\u001b[0;34m.\u001b[0m\u001b[0m_validate_X_predict\u001b[0m\u001b[0;34m(\u001b[0m\u001b[0mX\u001b[0m\u001b[0;34m)\u001b[0m\u001b[0;34m\u001b[0m\u001b[0;34m\u001b[0m\u001b[0m\n\u001b[0m\u001b[1;32m    947\u001b[0m \u001b[0;34m\u001b[0m\u001b[0m\n\u001b[1;32m    948\u001b[0m         \u001b[0;31m# Assign chunk of trees to jobs\u001b[0m\u001b[0;34m\u001b[0m\u001b[0;34m\u001b[0m\u001b[0m\n",
            "\u001b[0;32m/usr/local/lib/python3.10/dist-packages/sklearn/ensemble/_forest.py\u001b[0m in \u001b[0;36m_validate_X_predict\u001b[0;34m(self, X)\u001b[0m\n\u001b[1;32m    639\u001b[0m             \u001b[0mforce_all_finite\u001b[0m \u001b[0;34m=\u001b[0m \u001b[0;32mTrue\u001b[0m\u001b[0;34m\u001b[0m\u001b[0;34m\u001b[0m\u001b[0m\n\u001b[1;32m    640\u001b[0m \u001b[0;34m\u001b[0m\u001b[0m\n\u001b[0;32m--> 641\u001b[0;31m         X = self._validate_data(\n\u001b[0m\u001b[1;32m    642\u001b[0m             \u001b[0mX\u001b[0m\u001b[0;34m,\u001b[0m\u001b[0;34m\u001b[0m\u001b[0;34m\u001b[0m\u001b[0m\n\u001b[1;32m    643\u001b[0m             \u001b[0mdtype\u001b[0m\u001b[0;34m=\u001b[0m\u001b[0mDTYPE\u001b[0m\u001b[0;34m,\u001b[0m\u001b[0;34m\u001b[0m\u001b[0;34m\u001b[0m\u001b[0m\n",
            "\u001b[0;32m/usr/local/lib/python3.10/dist-packages/sklearn/base.py\u001b[0m in \u001b[0;36m_validate_data\u001b[0;34m(self, X, y, reset, validate_separately, cast_to_ndarray, **check_params)\u001b[0m\n\u001b[1;32m    652\u001b[0m \u001b[0;34m\u001b[0m\u001b[0m\n\u001b[1;32m    653\u001b[0m         \u001b[0;32mif\u001b[0m \u001b[0;32mnot\u001b[0m \u001b[0mno_val_X\u001b[0m \u001b[0;32mand\u001b[0m \u001b[0mcheck_params\u001b[0m\u001b[0;34m.\u001b[0m\u001b[0mget\u001b[0m\u001b[0;34m(\u001b[0m\u001b[0;34m\"ensure_2d\"\u001b[0m\u001b[0;34m,\u001b[0m \u001b[0;32mTrue\u001b[0m\u001b[0;34m)\u001b[0m\u001b[0;34m:\u001b[0m\u001b[0;34m\u001b[0m\u001b[0;34m\u001b[0m\u001b[0m\n\u001b[0;32m--> 654\u001b[0;31m             \u001b[0mself\u001b[0m\u001b[0;34m.\u001b[0m\u001b[0m_check_n_features\u001b[0m\u001b[0;34m(\u001b[0m\u001b[0mX\u001b[0m\u001b[0;34m,\u001b[0m \u001b[0mreset\u001b[0m\u001b[0;34m=\u001b[0m\u001b[0mreset\u001b[0m\u001b[0;34m)\u001b[0m\u001b[0;34m\u001b[0m\u001b[0;34m\u001b[0m\u001b[0m\n\u001b[0m\u001b[1;32m    655\u001b[0m \u001b[0;34m\u001b[0m\u001b[0m\n\u001b[1;32m    656\u001b[0m         \u001b[0;32mreturn\u001b[0m \u001b[0mout\u001b[0m\u001b[0;34m\u001b[0m\u001b[0;34m\u001b[0m\u001b[0m\n",
            "\u001b[0;32m/usr/local/lib/python3.10/dist-packages/sklearn/base.py\u001b[0m in \u001b[0;36m_check_n_features\u001b[0;34m(self, X, reset)\u001b[0m\n\u001b[1;32m    441\u001b[0m \u001b[0;34m\u001b[0m\u001b[0m\n\u001b[1;32m    442\u001b[0m         \u001b[0;32mif\u001b[0m \u001b[0mn_features\u001b[0m \u001b[0;34m!=\u001b[0m \u001b[0mself\u001b[0m\u001b[0;34m.\u001b[0m\u001b[0mn_features_in_\u001b[0m\u001b[0;34m:\u001b[0m\u001b[0;34m\u001b[0m\u001b[0;34m\u001b[0m\u001b[0m\n\u001b[0;32m--> 443\u001b[0;31m             raise ValueError(\n\u001b[0m\u001b[1;32m    444\u001b[0m                 \u001b[0;34mf\"X has {n_features} features, but {self.__class__.__name__} \"\u001b[0m\u001b[0;34m\u001b[0m\u001b[0;34m\u001b[0m\u001b[0m\n\u001b[1;32m    445\u001b[0m                 \u001b[0;34mf\"is expecting {self.n_features_in_} features as input.\"\u001b[0m\u001b[0;34m\u001b[0m\u001b[0;34m\u001b[0m\u001b[0m\n",
            "\u001b[0;31mValueError\u001b[0m: X has 230 features, but RandomForestClassifier is expecting 243541 features as input."
          ]
        }
      ]
    },
    {
      "cell_type": "code",
      "source": [
        "# Cross Validation:\n",
        "\n",
        "#stratified k-fold-method (good for imbalanced dataset)\n",
        "\n",
        "X_CV = X_train_word2vec_both.copy()\n",
        "y_CV = y_train_encoded.copy()\n",
        "\n",
        "# Define the number of folds\n",
        "folds = 3\n",
        "\n",
        "# Initialize variables for storing evaluation results and overall scores\n",
        "eval_core = []\n",
        "overall_scores = []\n",
        "\n",
        "random_forest = RandomForestClassifier()\n",
        "\n",
        "# Initialize variables to store fold-specific evaluation metrics\n",
        "fold_eval = []\n",
        "\n",
        "# Initialize k-fold cross-validation\n",
        "skf = StratifiedKFold(n_splits=folds, shuffle=True, random_state=42)\n",
        "\n",
        "for i, (train_index, test_index) in enumerate(skf.split(X_CV, y_CV)):\n",
        "    # Select data from train and test based on fold indices\n",
        "    X_CV_train = X_CV[train_index]\n",
        "    X_CV_test = X_CV[test_index]\n",
        "    y_CV_train = y_CV[train_index]\n",
        "    y_CV_test = y_CV[test_index]\n",
        "    #X_CV_train, X_CV_test = X_CV.iloc[train_index], X_CV.iloc[test_index]\n",
        "    #y_CV_train, y_CV_test = y_CV.iloc[train_index], y_CV.iloc[test_index]\n",
        "\n",
        "    # Train a DC classifier with the given parameter k\n",
        "    model_RF = RandomForestClassifier()\n",
        "    model_RF.fit(X_CV_train, y_CV_train)\n",
        "\n",
        "    # Predict on the test set\n",
        "    y_CV_pred = model_RF.predict(X_CV_test)\n",
        "\n",
        "    # Compute the accuracy metric for this fold\n",
        "    accuracy = accuracy_score(y_CV_test, y_CV_pred)\n",
        "    fold_eval.append(accuracy)\n",
        "\n",
        "# overall performanc of mdoel as average of acc of folds\n",
        "per = np.average(fold_eval)\n",
        "\n",
        "# Diagnostic\n",
        "print('Overall scores:', fold_eval)\n",
        "\n",
        "# Find the best performing k based on the highest accuracy\n",
        "best_k = np.argmax(fold_eval) + 1  # Add 1 to convert to 1-based index\n",
        "print(\"Best fold:\", best_k)\n",
        "\n",
        "print(\"Performance:\", per)\n"
      ],
      "metadata": {
        "id": "7tVfup0lWHvU"
      },
      "execution_count": null,
      "outputs": []
    },
    {
      "cell_type": "code",
      "source": [
        "from sklearn.ensemble import BaggingClassifier, RandomForestClassifier, AdaBoostClassifier, VotingClassifier\n",
        "from sklearn.metrics import accuracy_score, precision_score, recall_score, f1_score\n",
        "\n",
        "rf_model = RandomForestClassifier(n_estimators=100, random_state=2024, max_depth = None, max_features = \"sqrt\", min_samples_leaf = 1, min_samples_split = 2)\n",
        "\n",
        "# hypertuned params:\n",
        " #{'bootstrap': False, 'max_depth': None, 'max_features': 'sqrt',\n",
        " #'min_samples_leaf': 1, 'min_samples_split': 2, 'n_estimators': 100}\n",
        "\n",
        "rf_model.fit(X_train_tfidf_both, y_train_encoded)"
      ],
      "metadata": {
        "id": "PymAMydzWP5O"
      },
      "execution_count": null,
      "outputs": []
    },
    {
      "cell_type": "code",
      "source": [
        "# 2. 예측 수행\n",
        "y_test_pred = rf_model.predict(X_test_tfidf_both)\n",
        "\n",
        "# 3. 결과 저장: ID와 예측된 분류 결과를 DataFrame으로 변환\n",
        "test_results = pd.DataFrame({\n",
        "    'ID': X_test[\"ID\"],    # 테스트 데이터의 ID\n",
        "    '분류': label_encoder.inverse_transform(y_test_pred)     # 예측된 분류 값\n",
        "})\n",
        "\n",
        "# 4. 결과를 CSV 파일로 저장\n",
        "test_results.to_csv('submission.csv', index=False)\n",
        "\n",
        "\n",
        "# CSV 결과 예시\n",
        "print(test_results.head())"
      ],
      "metadata": {
        "id": "nyf6Bl4FWRfb"
      },
      "execution_count": null,
      "outputs": []
    }
  ]
}